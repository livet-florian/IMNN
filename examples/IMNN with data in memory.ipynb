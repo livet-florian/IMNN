{
 "cells": [
  {
   "cell_type": "code",
   "execution_count": 1,
   "metadata": {},
   "outputs": [],
   "source": [
    "%load_ext autoreload\n",
    "%autoreload 2"
   ]
  },
  {
   "cell_type": "code",
   "execution_count": 2,
   "metadata": {},
   "outputs": [
    {
     "name": "stdout",
     "output_type": "stream",
     "text": [
      "TensorFlow 2.1.0\n",
      "TensorFlow Probability 0.9.0\n",
      "IMNN 0.2a4\n",
      "numpy 1.18.2\n"
     ]
    }
   ],
   "source": [
    "import numpy as np\n",
    "import tensorflow as tf\n",
    "import matplotlib.pyplot as plt\n",
    "import tensorflow as tf\n",
    "import tensorflow_probability as tfp\n",
    "from IMNN import IMNN\n",
    "from IMNN.ABC import ABC\n",
    "from make_data import GenerateGaussianNoise\n",
    "tfd = tfp.distributions\n",
    "\n",
    "print(\"TensorFlow {}\\nTensorFlow Probability {}\\nIMNN {}\\nnumpy {}\".format(\n",
    "    tf.__version__, tfp.__version__, IMNN.__version__, np.__version__))"
   ]
  },
  {
   "cell_type": "markdown",
   "metadata": {},
   "source": [
    "# Summarising the mean and the variance\n",
    "\n",
    "For this example we are going see how the IMNN can summarise the unknown mean, $\\mu$, and variance, $\\Sigma$, of $n_{\\bf d}=10$ data points of a 1D random Gaussian field, ${\\bf d}=\\{d_i\\sim\\mathcal{N}(\\mu,\\Sigma)|i\\in[1, n_{\\bf d}]\\}$. This is an interesting problem since we know the likelihood analytically, but it is non-Gaussian\n",
    "$$\\mathcal{L}({\\bf d}|\\mu,\\Sigma) = \\prod_i^{n_{\\bf d}}\\frac{1}{\\sqrt{2\\pi|\\Sigma|}}\\exp\\left[-\\frac{1}{2}\\frac{(d_i-\\mu)^2}{\\Sigma}\\right]$$\n",
    "We can therefore use this example to compare our method using the IMNN to the ideal.\n",
    "\n",
    "Simulations from this model can be made using"
   ]
  },
  {
   "cell_type": "code",
   "execution_count": 3,
   "metadata": {},
   "outputs": [],
   "source": [
    "def simulator(x, seed=None, simulator_args=None):\n",
    "    if seed is not None:\n",
    "        np.random.seed(seed)\n",
    "    return np.moveaxis(\n",
    "        np.random.normal(\n",
    "            x[:, 0], \n",
    "            np.sqrt(x[:, 1]), \n",
    "            simulator_args[\"input_shape\"] + (x.shape[0],)), \n",
    "        -1, 0)"
   ]
  },
  {
   "cell_type": "markdown",
   "metadata": {},
   "source": [
    "And the likelihood evaluated for any given observation using"
   ]
  },
  {
   "cell_type": "code",
   "execution_count": 4,
   "metadata": {},
   "outputs": [],
   "source": [
    "class AnalyticLikelihood():\n",
    "    def __init__(self, data):\n",
    "        if len(data.shape) == 1:\n",
    "            data = data[np.newaxis, :]\n",
    "        self.data = data\n",
    "        \n",
    "    def check_grid(self, grid):\n",
    "        if len(grid.shape) == 1:\n",
    "            parameters = grid[np.newaxis, :]\n",
    "        elif len(grid.shape) == 2:\n",
    "            parameters = grid.T\n",
    "        else:\n",
    "            parameters = grid.reshape((2, -1)).T\n",
    "        return parameters, grid[0].shape\n",
    "        \n",
    "    def log_prob(self, grid, shape):\n",
    "        if len(grid.shape) == 1:\n",
    "            grid = grid[np.newaxis, ...]\n",
    "        sq_diff = (self.data[..., np.newaxis] - grid[:, 0])**2.\n",
    "        exp = np.sum(-0.5 * sq_diff / grid[:, 1], axis=1)\n",
    "        norm = -(self.data.shape[1] / 2.) * np.log(2. * np.pi * grid[:, 1])[np.newaxis, ...]\n",
    "        log_prob = np.reshape(exp + norm, ((-1,) + shape))\n",
    "        return log_prob\n",
    "        \n",
    "    def prob(self, grid, shape):\n",
    "        return np.exp(self.log_prob(grid, shape))\n",
    "    \n",
    "    def log_posterior(self, grid, shape, prior):\n",
    "        likelihood_eval = self.log_prob(grid, shape)\n",
    "        prior_eval = np.reshape(prior.log_prob(grid), ((-1,) + shape))\n",
    "        return prior_eval + likelihood_eval\n",
    "    \n",
    "    def posterior(self, grid, shape, prior):\n",
    "        return np.exp(self.log_posterior(grid, shape, prior))"
   ]
  },
  {
   "cell_type": "markdown",
   "metadata": {},
   "source": [
    "Lets observe some data generated from a Gaussian distribution with a mean, $\\mu=3$, and a variance $\\Sigma=2$ - we're going to generate the data from seed 37 (for no particular reason). Once this is generated we're going to forget that we ever knew this."
   ]
  },
  {
   "cell_type": "code",
   "execution_count": 5,
   "metadata": {},
   "outputs": [],
   "source": [
    "θ_target = np.array([3., 2.])\n",
    "target_data = simulator(θ_target[np.newaxis, :],\n",
    "                        seed=37, \n",
    "                        simulator_args={\"input_shape\": (10,)})"
   ]
  },
  {
   "cell_type": "code",
   "execution_count": 6,
   "metadata": {},
   "outputs": [
    {
     "data": {
      "image/png": "[encoded data removed]",
      "text/plain": [
       "<Figure size 360x288 with 1 Axes>"
      ]
     },
     "metadata": {
      "needs_background": "light"
     },
     "output_type": "display_data"
    }
   ],
   "source": [
    "fig, ax = plt.subplots(1, 1, figsize = (5, 4))\n",
    "ax.plot(target_data.T, \n",
    "        label=\"observed data\")\n",
    "ax.legend(frameon = False)\n",
    "ax.set_xlim([0, 9])\n",
    "ax.set_xticks([])\n",
    "ax.set_ylabel(\"Data amplitude\");"
   ]
  },
  {
   "cell_type": "markdown",
   "metadata": {},
   "source": [
    "## Inferring the mean and variance\n",
    "\n",
    "For the inference we start by defining our prior as a uniform distribution. This distribution can be a TensorFlow Probability distribution for simplicity. We are going to choose the prior to be uniform from -10 to 10 for the mean and 0 to 10 for the variance.\n",
    "\n",
    "$$p(\\mu,\\Sigma)=\\textrm{Uniform}\\left[\\textrm{lower}=(-10, 0),\\textrm{upper}=(10,10)\\right]$$"
   ]
  },
  {
   "cell_type": "code",
   "execution_count": 7,
   "metadata": {},
   "outputs": [],
   "source": [
    "prior = tfd.Blockwise([tfd.Uniform(-10., 10.),\n",
    "                       tfd.Uniform(0., 10.)])\n",
    "#prior = tfd.Blockwise([tfd.Uniform(-10., 10.),\n",
    "#                      tfd.Uniform(0., 10.),\n",
    "#                      tfd.Uniform(0., 10.),\n",
    "#                      tfd.Uniform(0., 10.),\n",
    "#                      tfd.Uniform(0., 10.)])"
   ]
  },
  {
   "cell_type": "markdown",
   "metadata": {},
   "source": [
    "As well as knowing the likelihood for this problem, we also know what sufficient statistics describe the mean and variance of the data - they are the mean and the variance\n",
    "$$\\frac{1}{n_{\\bf d}}\\sum_i^{n_{\\bf d}}d_i = \\mu\\textrm{  and  }\\frac{1}{n_{\\bf d}-1}\\sum_i^{n_{\\bf d}}(d_i-\\mu)^2=\\Sigma$$\n",
    "What makes this an interesting problem for the IMNN is the fact that the sufficient statistic for the variance is non-linear, i.e. it is a sum of the square of the data."
   ]
  },
  {
   "cell_type": "code",
   "execution_count": 8,
   "metadata": {},
   "outputs": [],
   "source": [
    "def get_mean_and_variance(data):\n",
    "    return np.array([np.mean(data, axis=1), np.std(data, axis=1)]).T"
   ]
  },
  {
   "cell_type": "markdown",
   "metadata": {},
   "source": [
    "We can calculate the statistics of observed data (generated from a Gaussian distribution with mean and variance of $\\mu=3$ and $\\Sigma=2$)"
   ]
  },
  {
   "cell_type": "code",
   "execution_count": 9,
   "metadata": {},
   "outputs": [
    {
     "name": "stdout",
     "output_type": "stream",
     "text": [
      "Mean and variance of observed data = [3.30235321 1.18202102]\n"
     ]
    }
   ],
   "source": [
    "print(\"Mean and variance of observed data = {}\".format(get_mean_and_variance(target_data)[0]))"
   ]
  },
  {
   "cell_type": "markdown",
   "metadata": {},
   "source": [
    "We might want to know how likely it is that any particular parameters of the Gaussian model are given that we have observed this data. This is given by the posterior distribution\n",
    "$$\\mathcal{P}(\\mu,\\Sigma|{\\bf d})\\propto\\mathcal{L}({\\bf d}|\\mu,\\Sigma)p(\\mu, \\Sigma)$$"
   ]
  },
  {
   "cell_type": "markdown",
   "metadata": {},
   "source": [
    "For example, let's say we want to know how likely it is that this data came from a model with some fiducial parameters $\\mu^\\textrm{fid}=0$ and $\\Sigma^\\textrm{fid}=1$."
   ]
  },
  {
   "cell_type": "code",
   "execution_count": 10,
   "metadata": {},
   "outputs": [],
   "source": [
    "θ_fid = np.array([0., 1.])\n",
    "#θ_fid = np.array([1., 0., 1., 0., 1.])"
   ]
  },
  {
   "cell_type": "markdown",
   "metadata": {},
   "source": [
    "We can evaluate the analytic likelihood, weighted by the prior"
   ]
  },
  {
   "cell_type": "code",
   "execution_count": 11,
   "metadata": {},
   "outputs": [
    {
     "name": "stdout",
     "output_type": "stream",
     "text": [
      "P(𝜇=0,Σ=1|d) ∝ [9.84179705e-34]\n"
     ]
    }
   ],
   "source": [
    "print(\"P(𝜇=0,Σ=1|d) ∝ {}\".format(AnalyticLikelihood(target_data).posterior(θ_fid, (), prior)))"
   ]
  },
  {
   "cell_type": "markdown",
   "metadata": {},
   "source": [
    "We can calculate the Fisher information by taking the negative second derivative of the likelihood taking the expectation by inserting the relations for the sufficient statistics and examining at the fiducial parameter values\n",
    "$${\\bf F}_{\\alpha\\beta} = -\\left.\\left(\\begin{array}{cc}\\displaystyle-\\frac{n_{\\bf d}}{\\Sigma}&0\\\\0&\\displaystyle-\\frac{n_{\\bf d}}{2\\Sigma^2}\\end{array}\\right)\\right|_{\\textrm{fiducial}}.$$"
   ]
  },
  {
   "cell_type": "code",
   "execution_count": 12,
   "metadata": {},
   "outputs": [],
   "source": [
    "def Fisher(data, θ_fid):\n",
    "    return -np.array([\n",
    "        [- np.prod(data.shape[1:]) / θ_fid[1], 0.], \n",
    "        [0. , - 0.5 * np.prod(data.shape[1:]) / θ_fid[1]**2.]])"
   ]
  },
  {
   "cell_type": "markdown",
   "metadata": {},
   "source": [
    "The inverse Fisher information describes the Cramer-Rao bound, i.e. the minimum variance of a Gaussian approximation of the likelihood about the fiducial parameter values. We can therefore use the Fisher information to make an approximation to posterior. This Gaussian approximation is available as part of the functions in the ABC submodule."
   ]
  },
  {
   "cell_type": "code",
   "execution_count": 13,
   "metadata": {},
   "outputs": [],
   "source": [
    "ga = ABC.GaussianApproximation(\n",
    "    target_data=np.random.normal(0, 1, (1, 10)), \n",
    "    prior=prior, \n",
    "    F=Fisher(target_data, θ_fid), \n",
    "    get_estimate=get_mean_and_variance, \n",
    "    simulator=simulator, \n",
    "    seed=None, \n",
    "    simulator_args={\"input_shape\": (10,)},\n",
    "    labels=[r\"$\\mu$\", r\"$\\Sigma$\"])"
   ]
  },
  {
   "cell_type": "code",
   "execution_count": 14,
   "metadata": {},
   "outputs": [
    {
     "data": {
      "image/png": "[encoded data removed]",
      "text/plain": [
       "<Figure size 360x360 with 2 Axes>"
      ]
     },
     "metadata": {
      "needs_background": "light"
     },
     "output_type": "display_data"
    }
   ],
   "source": [
    "ga.plot_Fisher(figsize=(5, 5));"
   ]
  },
  {
   "cell_type": "code",
   "execution_count": 15,
   "metadata": {},
   "outputs": [
    {
     "data": {
      "image/png": "[encoded data removed]",
      "text/plain": [
       "<Figure size 504x504 with 4 Axes>"
      ]
     },
     "metadata": {
      "needs_background": "light"
     },
     "output_type": "display_data"
    }
   ],
   "source": [
    "fig, ax = plt.subplots(2, 2, figsize=(7, 7))\n",
    "ga.plot(\n",
    "    gridsize=(1000, 1000),\n",
    "    ax=ax,\n",
    "    color=\"C1\",\n",
    "    label=\"Gaussian approximation\")\n",
    "analytic_grid = np.reshape(ga.grid.T, (-1,) + ga.shape)[:, :, 1:]\n",
    "analytic_shape = analytic_grid.shape[1:]\n",
    "analytic_grid = analytic_grid.reshape((ga.n_params, -1)).T\n",
    "ga.gridded_plot(\n",
    "    AnalyticLikelihood(target_data).posterior(\n",
    "        analytic_grid,\n",
    "        analytic_shape,\n",
    "        ga.prior), \n",
    "    analytic_grid, \n",
    "    analytic_shape,\n",
    "    ax=ax, \n",
    "    color=\"C0\", \n",
    "    label=\"Exact result\");"
   ]
  },
  {
   "cell_type": "code",
   "execution_count": 3,
   "metadata": {},
   "outputs": [
    {
     "name": "stdout",
     "output_type": "stream",
     "text": [
      "input_shape = (10,)\n",
      "n_params = 2\n",
      "n_summaries = 2\n",
      "n_s = 1000\n",
      "n_d = 1000\n",
      "θ_fid = [0. 1.]\n",
      "δθ = [0.2 0.2]\n",
      "fiducial.shape = (1000, 10)\n",
      "validation_fiducial.shape = (1000, 10)\n",
      "derivative.shape = (1000, 2, 2, 10)\n",
      "validation_derivative.shape = (1000, 2, 2, 10)\n"
     ]
    }
   ],
   "source": [
    "generator = GenerateGaussianNoise()\n",
    "data = generator.generate_data(size=\"full\")\n",
    "\n",
    "input_shape = data[0][\"input_shape\"]\n",
    "n_params = data[0][\"n_params\"]\n",
    "n_summaries = data[0][\"n_summaries\"]\n",
    "n_s = data[0][\"n_s\"]\n",
    "n_d = data[0][\"n_d\"]\n",
    "θ_fid = data[0][\"fiducial\"]\n",
    "δθ = data[0][\"delta\"]\n",
    "\n",
    "fiducial = data[1]\n",
    "validation_fiducial = data[2]\n",
    "\n",
    "derivative = data[3]\n",
    "validation_derivative = data[4]\n",
    "\n",
    "print(\"input_shape = {}\\nn_params = {}\\nn_summaries = {}\\n\"\n",
    "      \"n_s = {}\\nn_d = {}\\nθ_fid = {}\\nδθ = {}\\nfiducial.shape = {}\\n\"\n",
    "      \"validation_fiducial.shape = {}\\nderivative.shape = {}\\n\"\n",
    "      \"validation_derivative.shape = {}\".format(\n",
    "          input_shape, n_params, n_summaries, n_s, n_d, θ_fid, δθ,\n",
    "          fiducial.shape, validation_fiducial.shape, derivative.shape,\n",
    "          validation_derivative.shape))"
   ]
  },
  {
   "cell_type": "code",
   "execution_count": null,
   "metadata": {},
   "outputs": [],
   "source": []
  },
  {
   "cell_type": "markdown",
   "metadata": {},
   "source": [
    "The likelihood is given by\n",
    "$$\\mathcal{L} = \\prod_i^{n_{\\bf d}}\\frac{1}{\\sqrt{2\\pi|\\Sigma|}}\\exp\\left[-\\frac{1}{2}\\frac{(d_i-\\mu)^2}{\\Sigma}\\right]$$\n",
    "\n",
    "We can solve this problem analytically, so it is useful to check how well the network does. There is a single sufficient statistic which describes each the mean and the variance, which can be found by finding the maximum of the probability. We find that\n",
    "$$\\sum_i^{n_{\\bf d}}d_i = \\mu\\textrm{ and }\\sum_i^{n_{\\bf d}}(d_i-\\mu)^2=n_{\\bf d}\\Sigma$$\n",
    "\n",
    "We can calculate the Fisher information by taking the negative of second derivative of the likelihood taking the expectation by inserting the above relations at examining at some fiducial parameter values\n",
    "$${\\bf F}_{\\alpha\\beta} = -\\left.\\left(\\begin{array}{cc}\\displaystyle-\\frac{n_{\\bf d}}{\\Sigma}&0\\\\0&\\displaystyle-\\frac{n_{\\bf d}}{2\\Sigma^2}\\end{array}\\right)\\right|_{\\textrm{fiducial}}.$$"
   ]
  },
  {
   "cell_type": "code",
   "execution_count": 53,
   "metadata": {},
   "outputs": [
    {
     "name": "stdout",
     "output_type": "stream",
     "text": [
      "|F| = 50.000000000000014\n"
     ]
    },
    {
     "data": {
      "image/png": "[encoded data removed]",
      "text/plain": [
       "<Figure size 432x288 with 2 Axes>"
      ]
     },
     "metadata": {
      "needs_background": "light"
     },
     "output_type": "display_data"
    }
   ],
   "source": [
    "exact_fisher = -np.array([[-input_shape[0] / θ_fid[1], 0.], [0. , - 0.5 * input_shape[0] / θ_fid[1]**2.]])\n",
    "determinant_exact_fisher = np.linalg.det(exact_fisher)\n",
    "print(\"|F| = {}\".format(determinant_exact_fisher))\n",
    "plt.imshow(np.linalg.inv(exact_fisher))\n",
    "plt.title(\"Inverse Fisher matrix\")\n",
    "plt.xticks([0, 1], [r\"$\\mu$\", r\"$\\Sigma$\"])\n",
    "plt.yticks([0, 1], [r\"$\\mu$\", r\"$\\Sigma$\"])\n",
    "plt.colorbar();"
   ]
  },
  {
   "cell_type": "code",
   "execution_count": null,
   "metadata": {},
   "outputs": [],
   "source": [
    "Let us observe our _real_ data which happens to have true parameters $\\mu=3$ and $\\Sigma=2$"
   ]
  },
  {
   "cell_type": "code",
   "execution_count": 4,
   "metadata": {},
   "outputs": [],
   "source": [
    "model = tf.keras.Sequential(\n",
    "    [tf.keras.Input(shape=input_shape),\n",
    "     tf.keras.layers.Dense(128),\n",
    "     tf.keras.layers.LeakyReLU(0.01),\n",
    "     tf.keras.layers.Dense(128),\n",
    "     tf.keras.layers.LeakyReLU(0.01),\n",
    "     tf.keras.layers.Dense(n_summaries),\n",
    "    ])\n",
    "opt = tf.keras.optimizers.Adam()"
   ]
  },
  {
   "cell_type": "code",
   "execution_count": 5,
   "metadata": {},
   "outputs": [
    {
     "name": "stdout",
     "output_type": "stream",
     "text": [
      "input shape will be (10,)\n",
      "saving model to model/model\n",
      "WARNING:tensorflow:From /home/charnock/envs/tensorflow-2.1.0/lib/python3.7/site-packages/tensorflow_core/python/ops/resource_variable_ops.py:1786: calling BaseResourceVariable.__init__ (from tensorflow.python.ops.resource_variable_ops) with constraint is deprecated and will be removed in a future version.\n",
      "Instructions for updating:\n",
      "If using Keras pass *_constraint arguments to layers.\n",
      "INFO:tensorflow:Assets written to: model/model/assets\n"
     ]
    }
   ],
   "source": [
    "imnn = IMNN.IMNN(n_s=n_s, n_d=n_d, n_params=n_params, n_summaries=n_summaries,\n",
    "                 input_shape=input_shape, model=model, optimiser=opt, θ_fid=θ_fid, δθ=δθ,\n",
    "                 fiducial_loader=fiducial, derivative_loader=derivative,\n",
    "                 validation_fiducial_loader=validation_fiducial,\n",
    "                 validation_derivative_loader=validation_derivative,\n",
    "                 map_fn=None, check_shape=True, verbose=True, directory=\"model\",\n",
    "                 filename=\"model\", save=True)"
   ]
  },
  {
   "cell_type": "code",
   "execution_count": 8,
   "metadata": {},
   "outputs": [
    {
     "name": "stdout",
     "output_type": "stream",
     "text": [
      "Using patience length of 50. Maximum number of training iterations is 10000000000.\n",
      "Saving current model in model/model\n"
     ]
    },
    {
     "data": {
      "application/vnd.jupyter.widget-view+json": {
       "model_id": "e30e29276a4b496cadb358ccfba2f458",
       "version_major": 2,
       "version_minor": 0
      },
      "text/plain": [
       "HBox(children=(FloatProgress(value=1.0, bar_style='info', description='Iterations', max=1.0, style=ProgressSty…"
      ]
     },
     "metadata": {},
     "output_type": "display_data"
    },
    {
     "name": "stdout",
     "output_type": "stream",
     "text": [
      "Reached 50 steps without increasing val_det_F. Resetting weights to iteration 3455.\n",
      "\n"
     ]
    }
   ],
   "source": [
    "imnn.fit(None, λ=10., ϵ=0.01, patience=50, min_iterations=100)"
   ]
  },
  {
   "cell_type": "code",
   "execution_count": 9,
   "metadata": {},
   "outputs": [
    {
     "data": {
      "text/plain": [
       "[<matplotlib.lines.Line2D at 0x7fd40cc5cdd8>]"
      ]
     },
     "execution_count": 9,
     "metadata": {},
     "output_type": "execute_result"
    },
    {
     "data": {
      "image/png": "[encoded data removed]",
      "text/plain": [
       "<Figure size 432x288 with 1 Axes>"
      ]
     },
     "metadata": {
      "needs_background": "light"
     },
     "output_type": "display_data"
    }
   ],
   "source": [
    "plt.plot(imnn.history[\"det_F\"])\n",
    "plt.plot(imnn.history[\"val_det_F\"])"
   ]
  },
  {
   "cell_type": "code",
   "execution_count": 13,
   "metadata": {},
   "outputs": [],
   "source": [
    "target_μ = 2\n",
    "target_Σ = 3\n",
    "target_data = np.random.normal(\n",
    "    target_μ, \n",
    "    np.sqrt(target_Σ), \n",
    "    (1,) + input_shape).astype(np.float32)"
   ]
  },
  {
   "cell_type": "code",
   "execution_count": 48,
   "metadata": {},
   "outputs": [
    {
     "name": "stdout",
     "output_type": "stream",
     "text": [
      "θ_MLE = [1.7520932 3.5846105]\n",
      "|F| = 43.29351043701172\n"
     ]
    },
    {
     "data": {
      "image/png": "[encoded data removed]",
      "text/plain": [
       "<Figure size 432x288 with 2 Axes>"
      ]
     },
     "metadata": {
      "needs_background": "light"
     },
     "output_type": "display_data"
    }
   ],
   "source": [
    "print(\"θ_MLE = {}\\n|F| = {}\".format(imnn.get_MLE(target_data)[0], np.linalg.det(imnn.F)))\n",
    "plt.imshow(np.linalg.inv(imnn.Finv))\n",
    "plt.title(\"Inverse Fisher matrix\")\n",
    "plt.xticks([0, 1], [r\"$\\mu$\", r\"$\\Sigma$\"])\n",
    "plt.yticks([0, 1], [r\"$\\mu$\", r\"$\\Sigma$\"])\n",
    "plt.colorbar();"
   ]
  },
  {
   "cell_type": "code",
   "execution_count": 49,
   "metadata": {},
   "outputs": [],
   "source": [
    "prior = priors.TruncatedGaussian(\n",
    "    np.array([0., 1.]), \n",
    "    np.array([[10., 0.], [0., 10.]]), \n",
    "    np.array([-10., 0.]), \n",
    "    np.array([10., 10.]))"
   ]
  },
  {
   "cell_type": "code",
   "execution_count": 50,
   "metadata": {},
   "outputs": [],
   "source": [
    "abc = ABC.ABC(\n",
    "    real_data=target_data, \n",
    "    prior=prior, \n",
    "    F=imnn.F, \n",
    "    get_MLE=imnn.get_MLE, \n",
    "    simulator=lambda x : np.moveaxis(\n",
    "        np.random.normal(\n",
    "            x[:, 0], \n",
    "            np.sqrt(x[:, 1]), \n",
    "            input_shape + (x.shape[0],)), \n",
    "        -1, 0),\n",
    "    seed=None, \n",
    "    simulator_args=None)"
   ]
  },
  {
   "cell_type": "code",
   "execution_count": 51,
   "metadata": {},
   "outputs": [],
   "source": [
    "gaussian_approximation, grid = abc.gaussian_approximation(gridsize = 100)"
   ]
  },
  {
   "cell_type": "code",
   "execution_count": 52,
   "metadata": {},
   "outputs": [
    {
     "ename": "NameError",
     "evalue": "name 'parameter_grid' is not defined",
     "output_type": "error",
     "traceback": [
      "\u001b[0;31m---------------------------------------------------------------------------\u001b[0m",
      "\u001b[0;31mNameError\u001b[0m                                 Traceback (most recent call last)",
      "\u001b[0;32m<ipython-input-52-c90edb3e2566>\u001b[0m in \u001b[0;36m<module>\u001b[0;34m\u001b[0m\n\u001b[1;32m      1\u001b[0m \u001b[0mfig\u001b[0m\u001b[0;34m,\u001b[0m \u001b[0max\u001b[0m \u001b[0;34m=\u001b[0m \u001b[0mplt\u001b[0m\u001b[0;34m.\u001b[0m\u001b[0msubplots\u001b[0m\u001b[0;34m(\u001b[0m\u001b[0;36m2\u001b[0m\u001b[0;34m,\u001b[0m \u001b[0;36m2\u001b[0m\u001b[0;34m,\u001b[0m \u001b[0mfigsize\u001b[0m \u001b[0;34m=\u001b[0m \u001b[0;34m(\u001b[0m\u001b[0;36m16\u001b[0m\u001b[0;34m,\u001b[0m \u001b[0;36m10\u001b[0m\u001b[0;34m)\u001b[0m\u001b[0;34m)\u001b[0m\u001b[0;34m\u001b[0m\u001b[0;34m\u001b[0m\u001b[0m\n\u001b[1;32m      2\u001b[0m \u001b[0mplt\u001b[0m\u001b[0;34m.\u001b[0m\u001b[0msubplots_adjust\u001b[0m\u001b[0;34m(\u001b[0m\u001b[0mwspace\u001b[0m \u001b[0;34m=\u001b[0m \u001b[0;36m0\u001b[0m\u001b[0;34m,\u001b[0m \u001b[0mhspace\u001b[0m \u001b[0;34m=\u001b[0m \u001b[0;36m0\u001b[0m\u001b[0;34m)\u001b[0m\u001b[0;34m\u001b[0m\u001b[0;34m\u001b[0m\u001b[0m\n\u001b[0;32m----> 3\u001b[0;31m \u001b[0max\u001b[0m\u001b[0;34m[\u001b[0m\u001b[0;36m0\u001b[0m\u001b[0;34m,\u001b[0m \u001b[0;36m0\u001b[0m\u001b[0;34m]\u001b[0m\u001b[0;34m.\u001b[0m\u001b[0mplot\u001b[0m\u001b[0;34m(\u001b[0m\u001b[0mparameter_grid\u001b[0m\u001b[0;34m[\u001b[0m\u001b[0;36m0\u001b[0m\u001b[0;34m,\u001b[0m \u001b[0;34m:\u001b[0m\u001b[0;34m,\u001b[0m \u001b[0;36m0\u001b[0m\u001b[0;34m]\u001b[0m\u001b[0;34m,\u001b[0m \u001b[0mnp\u001b[0m\u001b[0;34m.\u001b[0m\u001b[0msum\u001b[0m\u001b[0;34m(\u001b[0m\u001b[0manalytic_posterior\u001b[0m \u001b[0;34m*\u001b[0m \u001b[0;34m(\u001b[0m\u001b[0mparameter_grid\u001b[0m\u001b[0;34m[\u001b[0m\u001b[0;36m0\u001b[0m\u001b[0;34m,\u001b[0m \u001b[0;36m1\u001b[0m\u001b[0;34m,\u001b[0m \u001b[0;36m0\u001b[0m\u001b[0;34m]\u001b[0m \u001b[0;34m-\u001b[0m \u001b[0mparameter_grid\u001b[0m\u001b[0;34m[\u001b[0m\u001b[0;36m0\u001b[0m\u001b[0;34m,\u001b[0m \u001b[0;36m0\u001b[0m\u001b[0;34m,\u001b[0m \u001b[0;36m0\u001b[0m\u001b[0;34m]\u001b[0m\u001b[0;34m)\u001b[0m\u001b[0;34m,\u001b[0m \u001b[0maxis\u001b[0m \u001b[0;34m=\u001b[0m \u001b[0;36m0\u001b[0m\u001b[0;34m)\u001b[0m\u001b[0;34m,\u001b[0m \u001b[0mlinewidth\u001b[0m \u001b[0;34m=\u001b[0m \u001b[0;36m1.5\u001b[0m\u001b[0;34m,\u001b[0m \u001b[0mcolor\u001b[0m \u001b[0;34m=\u001b[0m \u001b[0;34m'C2'\u001b[0m\u001b[0;34m,\u001b[0m \u001b[0mlabel\u001b[0m \u001b[0;34m=\u001b[0m \u001b[0;34m\"Analytic marginalised posterior\"\u001b[0m\u001b[0;34m)\u001b[0m\u001b[0;34m\u001b[0m\u001b[0;34m\u001b[0m\u001b[0m\n\u001b[0m\u001b[1;32m      4\u001b[0m \u001b[0max\u001b[0m\u001b[0;34m[\u001b[0m\u001b[0;36m0\u001b[0m\u001b[0;34m,\u001b[0m \u001b[0;36m0\u001b[0m\u001b[0;34m]\u001b[0m\u001b[0;34m.\u001b[0m\u001b[0mplot\u001b[0m\u001b[0;34m(\u001b[0m\u001b[0mgrid\u001b[0m\u001b[0;34m[\u001b[0m\u001b[0;36m0\u001b[0m\u001b[0;34m,\u001b[0m \u001b[0;34m:\u001b[0m\u001b[0;34m,\u001b[0m \u001b[0;36m0\u001b[0m\u001b[0;34m]\u001b[0m\u001b[0;34m,\u001b[0m \u001b[0mnp\u001b[0m\u001b[0;34m.\u001b[0m\u001b[0msum\u001b[0m\u001b[0;34m(\u001b[0m\u001b[0mgaussian_approximation\u001b[0m \u001b[0;34m*\u001b[0m \u001b[0;34m(\u001b[0m\u001b[0mgrid\u001b[0m\u001b[0;34m[\u001b[0m\u001b[0;36m0\u001b[0m\u001b[0;34m,\u001b[0m \u001b[0;36m1\u001b[0m\u001b[0;34m,\u001b[0m \u001b[0;36m0\u001b[0m\u001b[0;34m]\u001b[0m \u001b[0;34m-\u001b[0m \u001b[0mgrid\u001b[0m\u001b[0;34m[\u001b[0m\u001b[0;36m0\u001b[0m\u001b[0;34m,\u001b[0m \u001b[0;36m0\u001b[0m\u001b[0;34m,\u001b[0m \u001b[0;36m0\u001b[0m\u001b[0;34m]\u001b[0m\u001b[0;34m)\u001b[0m\u001b[0;34m,\u001b[0m \u001b[0maxis\u001b[0m \u001b[0;34m=\u001b[0m \u001b[0;36m0\u001b[0m\u001b[0;34m)\u001b[0m\u001b[0;34m,\u001b[0m \u001b[0mcolor\u001b[0m \u001b[0;34m=\u001b[0m \u001b[0;34m\"C1\"\u001b[0m\u001b[0;34m,\u001b[0m \u001b[0mlabel\u001b[0m \u001b[0;34m=\u001b[0m \u001b[0;34m\"Gaussian approximation\"\u001b[0m\u001b[0;34m)\u001b[0m\u001b[0;34m\u001b[0m\u001b[0;34m\u001b[0m\u001b[0m\n\u001b[1;32m      5\u001b[0m \u001b[0max\u001b[0m\u001b[0;34m[\u001b[0m\u001b[0;36m0\u001b[0m\u001b[0;34m,\u001b[0m \u001b[0;36m0\u001b[0m\u001b[0;34m]\u001b[0m\u001b[0;34m.\u001b[0m\u001b[0maxvline\u001b[0m\u001b[0;34m(\u001b[0m\u001b[0mabc\u001b[0m\u001b[0;34m.\u001b[0m\u001b[0mMLE\u001b[0m\u001b[0;34m[\u001b[0m\u001b[0;36m0\u001b[0m\u001b[0;34m,\u001b[0m \u001b[0;36m0\u001b[0m\u001b[0;34m]\u001b[0m\u001b[0;34m,\u001b[0m \u001b[0mlinestyle\u001b[0m \u001b[0;34m=\u001b[0m \u001b[0;34m\"dashed\"\u001b[0m\u001b[0;34m,\u001b[0m \u001b[0mcolor\u001b[0m \u001b[0;34m=\u001b[0m \u001b[0;34m\"black\"\u001b[0m\u001b[0;34m,\u001b[0m \u001b[0mlabel\u001b[0m \u001b[0;34m=\u001b[0m \u001b[0;34m\"Maximum likelihood estimate of mean\"\u001b[0m\u001b[0;34m)\u001b[0m\u001b[0;34m\u001b[0m\u001b[0;34m\u001b[0m\u001b[0m\n",
      "\u001b[0;31mNameError\u001b[0m: name 'parameter_grid' is not defined"
     ]
    },
    {
     "data": {
      "image/png": "[encoded data removed]",
      "text/plain": [
       "<Figure size 1152x720 with 4 Axes>"
      ]
     },
     "metadata": {
      "needs_background": "light"
     },
     "output_type": "display_data"
    }
   ],
   "source": [
    "fig, ax = plt.subplots(2, 2, figsize = (16, 10))\n",
    "plt.subplots_adjust(wspace = 0, hspace = 0)\n",
    "ax[0, 0].plot(parameter_grid[0, :, 0], np.sum(analytic_posterior * (parameter_grid[0, 1, 0] - parameter_grid[0, 0, 0]), axis = 0), linewidth = 1.5, color = 'C2', label = \"Analytic marginalised posterior\")\n",
    "ax[0, 0].plot(grid[0, :, 0], np.sum(gaussian_approximation * (grid[0, 1, 0] - grid[0, 0, 0]), axis = 0), color = \"C1\", label = \"Gaussian approximation\")\n",
    "ax[0, 0].axvline(abc.MLE[0, 0], linestyle = \"dashed\", color = \"black\", label = \"Maximum likelihood estimate of mean\")\n",
    "ax[0, 0].legend(frameon = False)\n",
    "ax[0, 0].set_xlim([-10, 10])\n",
    "ax[0, 0].set_ylabel('$\\\\mathcal{P}(\\\\mu|{\\\\bf d})$')\n",
    "ax[0, 0].set_yticks([])\n",
    "ax[0, 0].set_xticks([])\n",
    "ax[1, 0].set_xlabel('$\\mu$');\n",
    "ax[1, 0].set_ylim([0, 10])\n",
    "ax[1, 0].set_ylabel('$\\Sigma$')\n",
    "ax[1, 0].set_xlim([-10, 10])\n",
    "ax[1, 0].contour(parameter_grid[0, :, 0], parameter_grid[1, 0, :], analytic_posterior, colors = \"C2\")\n",
    "ax[1, 0].contour(grid[0, :, 0], grid[1, 0, :], gaussian_approximation, colors = \"C1\")\n",
    "ax[1, 0].axvline(abc.MLE[0, 0], linestyle = \"dashed\", color = \"black\", label = \"Maximum likelihood estimate of mean\")\n",
    "ax[1, 0].axhline(abc.MLE[0, 1], linestyle = \"dotted\", color = \"black\", label = \"Maximum likelihood estimate of covariance\")\n",
    "ax[1, 1].plot(np.sum(analytic_posterior * (parameter_grid[1, 0, 1] - parameter_grid[1, 0, 0]), axis = 1), parameter_grid[1, 0, :], linewidth = 1.5, color = 'C2', label = \"Analytic marginalised posterior\")\n",
    "ax[1, 1].plot(np.sum(gaussian_approximation * (grid[1, 0, 1] - grid[1, 0, 0]), axis = 1), grid[1, 0, :], color = \"C1\", label = \"Gaussian approximation\")\n",
    "ax[1, 1].axhline(abc.MLE[0, 1], linestyle = \"dotted\", color = \"black\", label = \"Maximum likelihood estimate of covariance\")\n",
    "ax[1, 1].legend(frameon = False)\n",
    "ax[1, 1].set_ylim([0, 10])\n",
    "ax[1, 1].set_xlabel('$\\\\mathcal{P}(\\\\Sigma|{\\\\bf d})$')\n",
    "ax[1, 1].set_xticks([])\n",
    "ax[1, 1].set_yticks([])\n",
    "ax[0, 1].axis(\"off\");"
   ]
  },
  {
   "cell_type": "code",
   "execution_count": null,
   "metadata": {},
   "outputs": [],
   "source": []
  }
 ],
 "metadata": {
  "kernelspec": {
   "display_name": "tensorflow-2.1.0",
   "language": "python",
   "name": "tensorflow-2.1.0"
  },
  "language_info": {
   "codemirror_mode": {
    "name": "ipython",
    "version": 3
   },
   "file_extension": ".py",
   "mimetype": "text/x-python",
   "name": "python",
   "nbconvert_exporter": "python",
   "pygments_lexer": "ipython3",
   "version": "3.7.3"
  }
 },
 "nbformat": 4,
 "nbformat_minor": 4
}
