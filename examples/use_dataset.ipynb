{
 "cells": [
  {
   "cell_type": "code",
   "execution_count": 1,
   "metadata": {},
   "outputs": [],
   "source": [
    "import numpy as np\n",
    "import tensorflow as tf\n",
    "import matplotlib.pyplot as plt\n",
    "import tensorflow as tf\n",
    "from IMNN import IMNN\n",
    "from IMNN.ABC import ABC, priors"
   ]
  },
  {
   "cell_type": "code",
   "execution_count": 2,
   "metadata": {},
   "outputs": [
    {
     "name": "stdout",
     "output_type": "stream",
     "text": [
      "TensorFlow version = 2.1.0\n",
      "IMNN version = 0.2a4\n"
     ]
    }
   ],
   "source": [
    "print(\"TensorFlow version =\", tf.__version__)\n",
    "print(\"IMNN version =\", IMNN.__version__)"
   ]
  },
  {
   "cell_type": "code",
   "execution_count": 3,
   "metadata": {},
   "outputs": [],
   "source": [
    "details = np.load(\"data/small_details.npz\")\n",
    "input_shape = tuple(details[\"input_shape\"])\n",
    "n_params = int(details[\"n_params\"])\n",
    "n_summaries = int(details[\"n_summaries\"])\n",
    "n_s = int(details[\"n_s\"])\n",
    "n_d = int(details[\"n_d\"])\n",
    "fiducial = details[\"fiducial\"]\n",
    "delta = details[\"delta\"]"
   ]
  },
  {
   "cell_type": "code",
   "execution_count": null,
   "metadata": {},
   "outputs": [],
   "source": [
    "class fiducial_generator:\n",
    "    def __init__(self, file):\n",
    "        self.file = file\n",
    "    def __call__(self, i):\n",
    "        data = np.load(self.file)\n",
    "        yield data[i], i\n",
    "        \n",
    "class derivative_generator:\n",
    "    def __init__(self, file):\n",
    "        self.file = file\n",
    "    def __call__(self, i, j, k):\n",
    "        data = np.load(self.file)\n",
    "        yield data[i, j, k], (i, j, k)"
   ]
  },
  {
   "cell_type": "code",
   "execution_count": null,
   "metadata": {},
   "outputs": [
    {
     "name": "stdout",
     "output_type": "stream",
     "text": [
      "n_params = 2\n",
      "n_summaries = 2\n",
      "n_s = 1000\n",
      "n_d = 100\n",
      "input_shape = (10,)\n",
      "θ_fid = [0. 1.]\n",
      "δθ = [0.2 0.2]\n"
     ]
    }
   ],
   "source": [
    "print(\"n_params =\", n_params)\n",
    "print(\"n_summaries =\", n_summaries)\n",
    "print(\"n_s =\", n_s)\n",
    "print(\"n_d =\", n_d)\n",
    "print(\"input_shape =\", input_shape)\n",
    "print(\"θ_fid =\", fiducial)\n",
    "print(\"δθ =\", delta)"
   ]
  },
  {
   "cell_type": "code",
   "execution_count": null,
   "metadata": {},
   "outputs": [],
   "source": [
    "model = tf.keras.Sequential(\n",
    "    [tf.keras.Input(shape=input_shape),\n",
    "     tf.keras.layers.Dense(128),\n",
    "     tf.keras.layers.LeakyReLU(0.01),\n",
    "     tf.keras.layers.Dense(128),\n",
    "     tf.keras.layers.LeakyReLU(0.01),\n",
    "     tf.keras.layers.Dense(n_summaries),\n",
    "    ])\n",
    "opt = tf.keras.optimizers.Adam()"
   ]
  },
  {
   "cell_type": "code",
   "execution_count": null,
   "metadata": {},
   "outputs": [
    {
     "name": "stdout",
     "output_type": "stream",
     "text": [
      "at_once is greater than n_d * n_params * 2 - setting to n_d * n_params * 2.\n",
      "input_shape = (10,). If this is not what you expected, check your data.\n",
      "saving model to model\n"
     ]
    },
    {
     "name": "stderr",
     "output_type": "stream",
     "text": [
      "WARNING: Logging before flag parsing goes to stderr.\n",
      "W0212 18:01:44.284023 4559183296 deprecation.py:506] From /usr/local/lib/python3.7/site-packages/tensorflow_core/python/ops/resource_variable_ops.py:1786: calling BaseResourceVariable.__init__ (from tensorflow.python.ops.resource_variable_ops) with constraint is deprecated and will be removed in a future version.\n",
      "Instructions for updating:\n",
      "If using Keras pass *_constraint arguments to layers.\n"
     ]
    }
   ],
   "source": [
    "imnn = IMNN.IMNN(n_s=n_s, n_d=n_d, n_params=n_params, n_summaries=n_summaries,\n",
    "                 model=model, optimiser=opt, θ_fid=fiducial, δθ=delta,\n",
    "                 fiducial_loader=fiducial_generator(\"data/fiducial_data.npy\"), \n",
    "                 derivative_loader=derivative_generator(\"data/small_derivative_data.npy\"),\n",
    "                 validation_fiducial_loader=fiducial_generator(\"data/fiducial_validation_data.npy\"), \n",
    "                 validation_derivative_loader=derivative_generator(\"data/small_derivative_validation_data.npy\"),\n",
    "                 at_once=1000,\n",
    "                 map_fn=None, check_shape=True,\n",
    "                 verbose=True, filename=\"model\", save=True)"
   ]
  },
  {
   "cell_type": "code",
   "execution_count": null,
   "metadata": {},
   "outputs": [
    {
     "name": "stdout",
     "output_type": "stream",
     "text": [
      "Using patience length of 10. Maximum number of training iterations is 10000000000.\n",
      "Saving current model in model\n"
     ]
    },
    {
     "data": {
      "application/vnd.jupyter.widget-view+json": {
       "model_id": "907821a4e5094b84b3ba4583c8a8cd6f",
       "version_major": 2,
       "version_minor": 0
      },
      "text/plain": [
       "HBox(children=(IntProgress(value=0, description='Iterations', max=10000000000, style=ProgressStyle(description…"
      ]
     },
     "metadata": {},
     "output_type": "display_data"
    },
    {
     "name": "stderr",
     "output_type": "stream",
     "text": [
      "W0212 18:01:45.608808 4559183296 ag_logging.py:146] AutoGraph could not transform <bound method IMNN.set_dataset of <IMNN.IMNN.IMNN object at 0x1380d0ed0>> and will run it as-is.\n",
      "Please report this to the TensorFlow team. When filing the bug, set the verbosity to 10 (on Linux, `export AUTOGRAPH_VERBOSITY=10`) and attach the full output.\n",
      "Cause: invalid syntax (<unknown>, line 22)\n",
      "W0212 18:01:45.739291 4559183296 ag_logging.py:146] AutoGraph could not transform <bound method IMNN.set_dataset of <IMNN.IMNN.IMNN object at 0x1380d0ed0>> and will run it as-is.\n",
      "Please report this to the TensorFlow team. When filing the bug, set the verbosity to 10 (on Linux, `export AUTOGRAPH_VERBOSITY=10`) and attach the full output.\n",
      "Cause: invalid syntax (<unknown>, line 22)\n"
     ]
    },
    {
     "name": "stdout",
     "output_type": "stream",
     "text": [
      "WARNING: AutoGraph could not transform <bound method IMNN.set_dataset of <IMNN.IMNN.IMNN object at 0x1380d0ed0>> and will run it as-is.\n",
      "Please report this to the TensorFlow team. When filing the bug, set the verbosity to 10 (on Linux, `export AUTOGRAPH_VERBOSITY=10`) and attach the full output.\n",
      "Cause: invalid syntax (<unknown>, line 22)\n",
      "WARNING: AutoGraph could not transform <bound method IMNN.set_dataset of <IMNN.IMNN.IMNN object at 0x1380d0ed0>> and will run it as-is.\n",
      "Please report this to the TensorFlow team. When filing the bug, set the verbosity to 10 (on Linux, `export AUTOGRAPH_VERBOSITY=10`) and attach the full output.\n",
      "Cause: invalid syntax (<unknown>, line 22)\n"
     ]
    },
    {
     "name": "stderr",
     "output_type": "stream",
     "text": [
      "W0212 18:01:47.487856 4559183296 ag_logging.py:146] AutoGraph could not transform <bound method IMNN.set_dataset of <IMNN.IMNN.IMNN object at 0x1380d0ed0>> and will run it as-is.\n",
      "Please report this to the TensorFlow team. When filing the bug, set the verbosity to 10 (on Linux, `export AUTOGRAPH_VERBOSITY=10`) and attach the full output.\n",
      "Cause: invalid syntax (<unknown>, line 22)\n"
     ]
    },
    {
     "name": "stdout",
     "output_type": "stream",
     "text": [
      "WARNING: AutoGraph could not transform <bound method IMNN.set_dataset of <IMNN.IMNN.IMNN object at 0x1380d0ed0>> and will run it as-is.\n",
      "Please report this to the TensorFlow team. When filing the bug, set the verbosity to 10 (on Linux, `export AUTOGRAPH_VERBOSITY=10`) and attach the full output.\n",
      "Cause: invalid syntax (<unknown>, line 22)\n"
     ]
    },
    {
     "name": "stderr",
     "output_type": "stream",
     "text": [
      "W0212 18:01:47.766467 4559183296 ag_logging.py:146] AutoGraph could not transform <bound method IMNN.set_dataset of <IMNN.IMNN.IMNN object at 0x1380d0ed0>> and will run it as-is.\n",
      "Please report this to the TensorFlow team. When filing the bug, set the verbosity to 10 (on Linux, `export AUTOGRAPH_VERBOSITY=10`) and attach the full output.\n",
      "Cause: invalid syntax (<unknown>, line 22)\n"
     ]
    },
    {
     "name": "stdout",
     "output_type": "stream",
     "text": [
      "WARNING: AutoGraph could not transform <bound method IMNN.set_dataset of <IMNN.IMNN.IMNN object at 0x1380d0ed0>> and will run it as-is.\n",
      "Please report this to the TensorFlow team. When filing the bug, set the verbosity to 10 (on Linux, `export AUTOGRAPH_VERBOSITY=10`) and attach the full output.\n",
      "Cause: invalid syntax (<unknown>, line 22)\n"
     ]
    },
    {
     "name": "stderr",
     "output_type": "stream",
     "text": [
      "W0212 18:01:47.999354 4559183296 ag_logging.py:146] AutoGraph could not transform <bound method IMNN.set_dataset of <IMNN.IMNN.IMNN object at 0x1380d0ed0>> and will run it as-is.\n",
      "Please report this to the TensorFlow team. When filing the bug, set the verbosity to 10 (on Linux, `export AUTOGRAPH_VERBOSITY=10`) and attach the full output.\n",
      "Cause: invalid syntax (<unknown>, line 22)\n",
      "W0212 18:01:48.054396 4559183296 ag_logging.py:146] AutoGraph could not transform <bound method IMNN.set_dataset of <IMNN.IMNN.IMNN object at 0x1380d0ed0>> and will run it as-is.\n",
      "Please report this to the TensorFlow team. When filing the bug, set the verbosity to 10 (on Linux, `export AUTOGRAPH_VERBOSITY=10`) and attach the full output.\n",
      "Cause: invalid syntax (<unknown>, line 22)\n"
     ]
    },
    {
     "name": "stdout",
     "output_type": "stream",
     "text": [
      "WARNING: AutoGraph could not transform <bound method IMNN.set_dataset of <IMNN.IMNN.IMNN object at 0x1380d0ed0>> and will run it as-is.\n",
      "Please report this to the TensorFlow team. When filing the bug, set the verbosity to 10 (on Linux, `export AUTOGRAPH_VERBOSITY=10`) and attach the full output.\n",
      "Cause: invalid syntax (<unknown>, line 22)\n",
      "WARNING: AutoGraph could not transform <bound method IMNN.set_dataset of <IMNN.IMNN.IMNN object at 0x1380d0ed0>> and will run it as-is.\n",
      "Please report this to the TensorFlow team. When filing the bug, set the verbosity to 10 (on Linux, `export AUTOGRAPH_VERBOSITY=10`) and attach the full output.\n",
      "Cause: invalid syntax (<unknown>, line 22)\n"
     ]
    },
    {
     "name": "stderr",
     "output_type": "stream",
     "text": [
      "W0212 18:01:48.451259 4559183296 ag_logging.py:146] AutoGraph could not transform <bound method IMNN.set_dataset of <IMNN.IMNN.IMNN object at 0x1380d0ed0>> and will run it as-is.\n",
      "Please report this to the TensorFlow team. When filing the bug, set the verbosity to 10 (on Linux, `export AUTOGRAPH_VERBOSITY=10`) and attach the full output.\n",
      "Cause: invalid syntax (<unknown>, line 22)\n"
     ]
    },
    {
     "name": "stdout",
     "output_type": "stream",
     "text": [
      "WARNING: AutoGraph could not transform <bound method IMNN.set_dataset of <IMNN.IMNN.IMNN object at 0x1380d0ed0>> and will run it as-is.\n",
      "Please report this to the TensorFlow team. When filing the bug, set the verbosity to 10 (on Linux, `export AUTOGRAPH_VERBOSITY=10`) and attach the full output.\n",
      "Cause: invalid syntax (<unknown>, line 22)\n"
     ]
    },
    {
     "name": "stderr",
     "output_type": "stream",
     "text": [
      "W0212 18:01:48.800877 4559183296 ag_logging.py:146] AutoGraph could not transform <bound method IMNN.set_dataset of <IMNN.IMNN.IMNN object at 0x1380d0ed0>> and will run it as-is.\n",
      "Please report this to the TensorFlow team. When filing the bug, set the verbosity to 10 (on Linux, `export AUTOGRAPH_VERBOSITY=10`) and attach the full output.\n",
      "Cause: invalid syntax (<unknown>, line 22)\n"
     ]
    },
    {
     "name": "stdout",
     "output_type": "stream",
     "text": [
      "WARNING: AutoGraph could not transform <bound method IMNN.set_dataset of <IMNN.IMNN.IMNN object at 0x1380d0ed0>> and will run it as-is.\n",
      "Please report this to the TensorFlow team. When filing the bug, set the verbosity to 10 (on Linux, `export AUTOGRAPH_VERBOSITY=10`) and attach the full output.\n",
      "Cause: invalid syntax (<unknown>, line 22)\n"
     ]
    },
    {
     "name": "stderr",
     "output_type": "stream",
     "text": [
      "W0212 18:01:53.155380 4559183296 ag_logging.py:146] AutoGraph could not transform <bound method IMNN.set_dataset of <IMNN.IMNN.IMNN object at 0x1380d0ed0>> and will run it as-is.\n",
      "Please report this to the TensorFlow team. When filing the bug, set the verbosity to 10 (on Linux, `export AUTOGRAPH_VERBOSITY=10`) and attach the full output.\n",
      "Cause: invalid syntax (<unknown>, line 22)\n",
      "W0212 18:01:53.222671 4559183296 ag_logging.py:146] AutoGraph could not transform <bound method IMNN.set_dataset of <IMNN.IMNN.IMNN object at 0x1380d0ed0>> and will run it as-is.\n",
      "Please report this to the TensorFlow team. When filing the bug, set the verbosity to 10 (on Linux, `export AUTOGRAPH_VERBOSITY=10`) and attach the full output.\n",
      "Cause: invalid syntax (<unknown>, line 22)\n"
     ]
    },
    {
     "name": "stdout",
     "output_type": "stream",
     "text": [
      "WARNING: AutoGraph could not transform <bound method IMNN.set_dataset of <IMNN.IMNN.IMNN object at 0x1380d0ed0>> and will run it as-is.\n",
      "Please report this to the TensorFlow team. When filing the bug, set the verbosity to 10 (on Linux, `export AUTOGRAPH_VERBOSITY=10`) and attach the full output.\n",
      "Cause: invalid syntax (<unknown>, line 22)\n",
      "WARNING: AutoGraph could not transform <bound method IMNN.set_dataset of <IMNN.IMNN.IMNN object at 0x1380d0ed0>> and will run it as-is.\n",
      "Please report this to the TensorFlow team. When filing the bug, set the verbosity to 10 (on Linux, `export AUTOGRAPH_VERBOSITY=10`) and attach the full output.\n",
      "Cause: invalid syntax (<unknown>, line 22)\n"
     ]
    }
   ],
   "source": [
    "imnn.fit(None, λ=10., ϵ=0.01, patience=10, min_iterations=1000)"
   ]
  },
  {
   "cell_type": "code",
   "execution_count": null,
   "metadata": {},
   "outputs": [],
   "source": [
    "plt.plot(imnn.history[\"det_F\"])\n",
    "plt.plot(imnn.history[\"val_det_F\"])"
   ]
  },
  {
   "cell_type": "code",
   "execution_count": null,
   "metadata": {},
   "outputs": [],
   "source": []
  }
 ],
 "metadata": {
  "kernelspec": {
   "display_name": "Python 3",
   "language": "python",
   "name": "python3"
  },
  "language_info": {
   "codemirror_mode": {
    "name": "ipython",
    "version": 3
   },
   "file_extension": ".py",
   "mimetype": "text/x-python",
   "name": "python",
   "nbconvert_exporter": "python",
   "pygments_lexer": "ipython3",
   "version": "3.7.4"
  }
 },
 "nbformat": 4,
 "nbformat_minor": 2
}
